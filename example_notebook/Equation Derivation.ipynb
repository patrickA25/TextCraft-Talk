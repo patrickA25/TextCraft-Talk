{
 "cells": [
  {
   "cell_type": "markdown",
   "source": [
    "## Multi Line Derivation\n",
    "There are times when we need to show how an equation is derived.We can use the align function to make it easier to read and follow.\n",
    "\n",
    "$$\n",
    "\\begin{align}\n",
    "\\sigma &= \\sqrt{E\\left[ \\left(X -\\mu\\right)^2 \\right] } \\\\\n",
    "&= \\sqrt{E\\left[ X^2 \\right]+ E\\left[\\left(-2\\mu X\\right)\\right] +E\\left[ \\mu^2\\right]} \\\\\n",
    "&= \\sqrt{E\\left[ X^2 \\right] -2\\mu E\\left[X\\right] + \\mu^2}\\\\\n",
    "&= \\sqrt{E\\left[X^2 \\right]- 2\\mu^2 + \\mu^2 }\\\\\n",
    "&= \\sqrt{E\\left[ X^2 \\right]-\\mu^2}\\\\\n",
    "&= \\sqrt{E\\left[ X^2 \\right] - \\left(E\\left[X\\right]\\right)^2}\n",
    "\\end{align}\n",
    "$$\n",
    "\n",
    "To set this up you will start the latex section with the following code `\\begin{align}` you will also end the section with `\\end{align}`. You will want to use the  ampersand `&` character to set the point where the equations are vertically aligned and the double backlash will work as the newline character.\n",
    "\n",
    "  \n",
    "```latex\n",
    "\\begin{align}\n",
    "\\sigma &= \\sqrt{E\\left[ \\left(X -\\mu\\right)^2 \\right] } \\\\\n",
    "&= \\sqrt{E\\left[ X^2 \\right]+ E\\left[\\left(-2\\mu X\\right)\\right] +E\\left[ \\mu^2\\right]} \\\\\n",
    "&= \\sqrt{E\\left[ X^2 \\right] -2\\mu E\\left[X\\right] + \\mu^2}\\\\\n",
    "&= \\sqrt{E\\left[X^2 \\right]- 2\\mu^2 + \\mu^2 }\\\\\n",
    "&= \\sqrt{E\\left[ X^2 \\right]-\\mu^2}\\\\\n",
    "&= \\sqrt{E\\left[ X^2 \\right] - \\left(E\\left[X\\right]\\right)^2}\n",
    "\\end{align}\n",
    "```"
   ],
   "metadata": {
    "collapsed": false
   },
   "id": "8355489b12e5de4f"
  },
  {
   "cell_type": "markdown",
   "source": [
    "\n",
    "Without Multiline \n",
    "\n",
    "$$\n",
    "\\left( a + b \\right)^{5} =a^5 +5 a^4 b+10 a^3 b^2+10 a^2 b^3+5a b^4+b^5 \n",
    "$$\n",
    "\n",
    "With multi line\n",
    "$$\n",
    "\\begin{multline*}\n",
    "\\left( a + b \\right)^{5} &= a^5 +5 a^4 b+10\\\\\n",
    " & a^3 b^2+10 a^2 b^3+5a b^4+b^5 \n",
    "\\end{multline*}\n",
    "$$\n",
    "\n",
    "\n",
    "```latex\n",
    "\\begin{multline*}\n",
    "\\left( a + b \\right)^{5} &= a^5 +5 a^4 b+10\\\\\n",
    " & a^3 b^2+10 a^2 b^3+5a b^4+b^5 \n",
    "\\end{multline*}\n",
    "```\n"
   ],
   "metadata": {
    "collapsed": false
   },
   "id": "5d379ee0faf32ba5"
  }
 ],
 "metadata": {
  "kernelspec": {
   "display_name": "Python 3",
   "language": "python",
   "name": "python3"
  },
  "language_info": {
   "codemirror_mode": {
    "name": "ipython",
    "version": 2
   },
   "file_extension": ".py",
   "mimetype": "text/x-python",
   "name": "python",
   "nbconvert_exporter": "python",
   "pygments_lexer": "ipython2",
   "version": "2.7.6"
  }
 },
 "nbformat": 4,
 "nbformat_minor": 5
}
