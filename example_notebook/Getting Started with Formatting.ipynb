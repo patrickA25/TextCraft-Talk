{
 "cells": [
  {
   "cell_type": "markdown",
   "source": [
    "There are two types of way of adding latex into a document inline and and a centered equeations denated by \n",
    "\n",
    "### Inline latex\n",
    "\n",
    "Inlined is great for adding math symboles in the middel of the sencents. For example $\\sigma$ is commonly denated as standated devation. \n",
    "\n",
    "A cenntered equations is used when you want to make the math equations(s) to be the center\n",
    "\n",
    "$$\n",
    "\\frac{1}{n}\\sum_{i = 1}^n x_i\n",
    "$$"
   ],
   "metadata": {
    "collapsed": false
   },
   "id": "3cdc3e29f1075181"
  },
  {
   "cell_type": "markdown",
   "source": [
    "https://ashki23.github.io/markdown-latex.html\n",
    "\n",
    "https://www.overleaf.com/learn/latex/Matrices\n",
    "\n",
    "https://docs.github.com/en/get-started/writing-on-github/working-with-advanced-formatting/writing-mathematical-expressions"
   ],
   "metadata": {
    "collapsed": false
   },
   "id": "e3cb381d0fa8b904"
  }
 ],
 "metadata": {
  "kernelspec": {
   "display_name": "Python 3",
   "language": "python",
   "name": "python3"
  },
  "language_info": {
   "codemirror_mode": {
    "name": "ipython",
    "version": 2
   },
   "file_extension": ".py",
   "mimetype": "text/x-python",
   "name": "python",
   "nbconvert_exporter": "python",
   "pygments_lexer": "ipython2",
   "version": "2.7.6"
  }
 },
 "nbformat": 4,
 "nbformat_minor": 5
}
