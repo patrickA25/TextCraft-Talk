{
 "cells": [
  {
   "cell_type": "markdown",
   "source": [
    "## Greek Letters\n",
    "\n",
    "|     Greek Letters     | Upper Case | Lower Case |\n",
    "|:---------------------:|:----------:|:---------:|\n",
    "|   $\\Alpha$,$\\alpha$   |   \\Alpha   |   \\alpha  |\n",
    "|    $\\Beta$,$\\beta$    |   \\Beta    |   \\beta   |\n",
    "|   $\\Gamma$,$\\gamma$   |   \\Gamma   |   \\gamma  |\n",
    "|   $\\Delta$,$\\delta$   |   \\Delta   |   \\delta  |\n",
    "| $\\Epsilon$,$\\epsilon$ |  \\Epsilon  |  \\epsilon |\n",
    "|    $\\Zeta$,$\\zeta$    |   \\Zeta    |   \\zeta   |\n",
    "|     $\\Eta$,$\\eta$     |    \\Eta    |    \\eta   |\n",
    "|   $\\Theta$,$\\theta$   |   \\Theta   |   \\theta  |\n",
    "|    $\\Iota$,$\\iota$    |   \\Iota    |   \\iota   |\n",
    "|   $\\Kappa$,$\\kappa$   |   \\Kappa   |   \\kappa  |\n",
    "|  $\\Lambda$,$\\lambda$  |  \\Lambda   |  \\lambda  |\n",
    "|      $\\Mu$,$\\mu$      |    \\Mu     |    \\mu    |\n",
    "|      $\\Nu$,$\\nu$      |    \\NU     |    \\nu    |\n",
    "|      $\\Xi$,$\\xi$      |    \\Xi     |    \\xi    |\n",
    "| $\\Omicron$,$\\omicron$ |  \\Omicron  |  \\omicron |\n",
    "|      $\\Pi$,$\\pi$      |    \\Pi     |    \\pi    |\n",
    "|     $\\Rho$,$\\rho$     |    \\Rho    |    \\rho   |\n",
    "|   $\\Sigma$,$\\sigma$   |   \\Sigma   |   \\sigma  |\n",
    "|     $\\Tau$,$\\tau$     |    \\Tau    |    \\tau   |\n",
    "| $\\Upsilon$,$\\upsilon$ |  \\Upsilon  |  \\upsilon |\n",
    "|     $\\Chi$,$\\chi$     |    \\Chi    |    \\chi   |\n",
    "|     $\\Psi$,$\\psi$     |    \\Psi    |    \\Psi   |\n",
    "|   $\\Omega$,$\\omega$   |   \\Omega   |  \\omega   |"
   ],
   "metadata": {
    "collapsed": false
   },
   "id": "c12cb17c4f18850d"
  },
  {
   "cell_type": "markdown",
   "source": [
    "## Arrows\n",
    "\n",
    "| | | |\n",
    ":----:|:----:|:----:|:----:|\n",
    "|$\\leftarrow$|\\leftarrow|$\\Leftarrow$|\\Leftarrow|\n",
    "|$\\rightarrow$ |\\rightarrow |$\\Rightarrow$ |\\Rightarrow |\n",
    "|$\\leftrightarrow$ |\\leftrightarrow |$\\rightleftharpoons$ |\\rightleftharpoons |\n",
    "|$\\uparrow$ |\\uparrow |$\\downarrow$ |\\downarrow |\n",
    "|$\\Uparrow$ |\\Uparrow |$\\Downarrow$ |\\Downarrow |\n",
    "|$\\Leftrightarrow$ |\\Leftrightarrow |$\\Updownarrow$ |\\Updownarrow |\n",
    "|$\\mapsto$ | \\mapsto|$\\longmapsto$ |\\longmapsto |\n",
    "|$\\nearrow$ |\\nearrow|$\\searrow$ |\\searrow |\n",
    "|$\\leftharpoonup$ |\\leftharpoonup |$\\rightharpoonup$ |\\rightharpoonup |\n",
    "|$\\leftharpoondown$ |\\leftharpoondown |$\\rightharpoondown$ |\\rightharpoondown |"
   ],
   "metadata": {
    "collapsed": false
   },
   "id": "88e761ec5f16ec88"
  },
  {
   "cell_type": "markdown",
   "source": [
    "## Miscellaneous Symbols\n",
    "\n",
    "|    Symbol    |Latex Syntax |  Symbol  | Latex Syntax |\n",
    "|:------------:|:-----:|:--------:|:------------:|\n",
    "|   $\\infty$   | \\infty|$\\forall$ |   \\forall    |\n",
    "|   $\\Re $ \t   |\\Re \t| $\\Im$ |     \t\\Im     |\n",
    "|   $\\nabla$   |\t\\nabla \t| $\\exists$ |  \t\\exists    |\n",
    "|  $\\partial$  | \t\\partial |\t $\\nexists$  |\t\\nexists |\n",
    "| $\\emptyset $  |  \t\\emptyset | $\\varnothing$ | \t\\varnothing|\n",
    "|  $   \\wp$      |\t\\wp \t| $\\complement$|  \t\\complement|\n",
    "|   $\\neg$  \t    |\\neg |\t $\\cdots$  |\t\\cdots|\n",
    "|  $\\square$  \t  |\\square |\t$ \\surd$ | \t\\surd|\n",
    "| $\\blacksquare$ |  \t\\blacksquare |\t $\\triangle$ |\t\\triangle|"
   ],
   "metadata": {
    "collapsed": false
   },
   "id": "8008512bfc07c06d"
  },
  {
   "cell_type": "markdown",
   "source": [
    "## Binary Operation/Relation Symbols\n",
    "\n",
    "| Symbol | Latex Syntax|  Symbol   | Latex Syntax | \n",
    "| :------: |:------: |:---------:|:------: |\n",
    "|  $\\times$ | \t\\times | \t $\\cdot$ |  \t\\cdot|\n",
    "| $\\div$  |\t\\div \t|  $\\cap$   |\t\\cap|\n",
    "| $\\cup$  |\t\\cup \t|  $\\neq$   |\t\\neq|\n",
    "| $\\leq$ | \t\\leq \t|  $\\geq$   |\t\\geq|\n",
    "| $\\in$ | \t\\in \t|  $\\perp$  |\t\\perp|\n",
    "| $\\notin$ | \t\\notin \t| $\\subset$ | \t\\subset|\n",
    "| $\\simeq$ | \t\\simeq \t| $\\approx$ | \t\\approx|"
   ],
   "metadata": {
    "collapsed": false
   },
   "id": "2d0609f03f471188"
  },
  {
   "cell_type": "markdown",
   "source": [
    "## Integrals Sums and Limits\n",
    "\n",
    "### Sum\n",
    "\n",
    "|                Latex Code                |                               Output                                |\n",
    "|:----------------------------------------:|:-------------------------------------------------------------------:|\n",
    "|     Sum \\sum_{n=1}^{\\infty} 2^{-n}=1     |                 Sum $\\sum_{n=1}^{\\infty} 2^{-n}=1$                  |\n",
    "|    \\[ \\sum_{n=1}^{\\infty} 2^{-n}=1\\]     |                 $\\[\\sum_{n=1}^{\\infty} 2^{-n}=1 \\]$                 |\n",
    "| Product \\prod_{i=a}^{b} f(i) inside text |             Product $\\prod_{i=a}^{b} f(i)$ inside text              |\n",
    "|        \\[\\prod_{i=a}^{b} f(i) \\]         |                $\\[\\prod_{i=a}^{b} f(i) \\] $                         |"
   ],
   "metadata": {
    "collapsed": false
   },
   "id": "d5112fcb857dc8df"
  }
 ],
 "metadata": {
  "kernelspec": {
   "display_name": "Python 3",
   "language": "python",
   "name": "python3"
  },
  "language_info": {
   "codemirror_mode": {
    "name": "ipython",
    "version": 2
   },
   "file_extension": ".py",
   "mimetype": "text/x-python",
   "name": "python",
   "nbconvert_exporter": "python",
   "pygments_lexer": "ipython2",
   "version": "2.7.6"
  }
 },
 "nbformat": 4,
 "nbformat_minor": 5
}
