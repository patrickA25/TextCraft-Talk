{
 "cells": [
  {
   "cell_type": "markdown",
   "source": [
    "<h1><center> Different Heading Sizes </center></h1> "
   ],
   "metadata": {
    "collapsed": false
   },
   "id": "db7a11f317196ee0"
  },
  {
   "cell_type": "markdown",
   "source": [
    "# Heading one => ``# Heading One``\n",
    "\n",
    "## Heading Two => ``## Heading Two``\n",
    "\n",
    "### Heading Three => ``### Heading Three``\n",
    "\n",
    "#### Heading four => ``#### Heading four``\n",
    "\n",
    "##### Heading Five => ``##### Heading Five``\n",
    "\n",
    "###### Heading Six => ``###### Heading Six``"
   ],
   "metadata": {
    "collapsed": false
   },
   "id": "4d50727b06d6d2c2"
  },
  {
   "cell_type": "markdown",
   "source": [
    "https://www.markdownguide.org/basic-syntax/#alternate-syntax"
   ],
   "metadata": {
    "collapsed": false
   },
   "id": "77786baea3979292"
  }
 ],
 "metadata": {
  "kernelspec": {
   "display_name": "Python 3",
   "language": "python",
   "name": "python3"
  },
  "language_info": {
   "codemirror_mode": {
    "name": "ipython",
    "version": 2
   },
   "file_extension": ".py",
   "mimetype": "text/x-python",
   "name": "python",
   "nbconvert_exporter": "python",
   "pygments_lexer": "ipython2",
   "version": "2.7.6"
  }
 },
 "nbformat": 4,
 "nbformat_minor": 5
}
