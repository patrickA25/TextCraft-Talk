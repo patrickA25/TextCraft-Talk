{
 "cells": [
  {
   "cell_type": "markdown",
   "source": [
    "\n",
    "\n",
    "```latex\n",
    "\n",
    "$$\n",
    "\\begin{matrix} \n",
    "1&2&3 \\\\ \n",
    "a&b&c \\\\ \n",
    "\\end{matrix}$$\n",
    "```"
   ],
   "metadata": {
    "collapsed": false
   },
   "id": "6e9197740c4261ca"
  }
 ],
 "metadata": {
  "kernelspec": {
   "display_name": "Python 3",
   "language": "python",
   "name": "python3"
  },
  "language_info": {
   "codemirror_mode": {
    "name": "ipython",
    "version": 2
   },
   "file_extension": ".py",
   "mimetype": "text/x-python",
   "name": "python",
   "nbconvert_exporter": "python",
   "pygments_lexer": "ipython2",
   "version": "2.7.6"
  }
 },
 "nbformat": 4,
 "nbformat_minor": 5
}
